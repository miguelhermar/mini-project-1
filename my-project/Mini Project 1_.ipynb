{
 "cells": [
  {
   "cell_type": "markdown",
   "id": "42e0bff0",
   "metadata": {},
   "source": [
    "### Estructura del juego y procedimiento (Wordle)"
   ]
  },
  {
   "cell_type": "markdown",
   "id": "d3a79806",
   "metadata": {},
   "source": [
    "El juego se trata de adivinar una palabra de cinco letras en seis intentos.\n",
    "\n",
    "1. Usaremos una lista de palabras con cinco letras y escogeremos una al azar que sea la palabra oculta.\n",
    "2. El usuario tendrá que adivinar la palabra oculta durante 6 intentos.\n",
    "3. Crearemos una variable que almacene el número de veces que el usuario intenta adivinar la palabra.\n",
    "4. Necesitamos también un condicional para cada uno de los resultados que arroje el input del usuario:\n",
    "\n",
    "     Si una letra se adivina correctamente y en la posición correcta --> ✅\n",
    "     \n",
    "     Si se adivina una letra correctamente pero está en la posición incorrecta --> 🔥\n",
    "     \n",
    "     Si una letra no está en la palabra oculta --> ❌\n"
   ]
  },
  {
   "cell_type": "code",
   "execution_count": 1,
   "id": "e17b8d50",
   "metadata": {},
   "outputs": [],
   "source": [
    "from Wordle import Instrucciones, Juego"
   ]
  },
  {
   "cell_type": "code",
   "execution_count": 2,
   "id": "d7ea60cf",
   "metadata": {},
   "outputs": [
    {
     "name": "stdout",
     "output_type": "stream",
     "text": [
      "En este juego tienes que adivinar una palabra oculta de cinco letras. Tienes seis intentos. \n",
      "\n",
      " – Si la palabra que escribiste tiene alguna letra en la posición corrrecta, ✅ este emoji aparecerá en pantalla.\n",
      "\n",
      " – Si hay alguna letra que pertenece a la palabra oculta pero no está en la posición correcta, entonces aparecerá 🔥. \n",
      "\n",
      " – Finalmente, si la palabra tiene alguna letra que no pertenece a la palabra oculta, entonces te marcará ❌.\n",
      "\n",
      "NOTA: En cualquier momnento puedes obtener un hint si así lo deseas, pero ten en cuenta que esto te descontará un intento del total de intentos que tienes. Para obtener un hint sólo escribe \"hint\". Además, también puedes escribir \"me rindo\" y automáticamente el juego terminará y podrás conocer la palabra oculta.\n",
      "\n",
      "\n"
     ]
    }
   ],
   "source": [
    "Instrucciones().instruc_juego()"
   ]
  },
  {
   "cell_type": "code",
   "execution_count": 3,
   "id": "cf7f5d1b",
   "metadata": {},
   "outputs": [],
   "source": [
    "juego = Juego()"
   ]
  },
  {
   "cell_type": "code",
   "execution_count": 4,
   "id": "5cb703eb",
   "metadata": {},
   "outputs": [
    {
     "name": "stdout",
     "output_type": "stream",
     "text": [
      "¡Hola! ¿Cuál es tu nombre? Miguel\n"
     ]
    },
    {
     "data": {
      "text/plain": [
       "'Perfecto. ¿List@ para empezar, Miguel? Vamos allá!'"
      ]
     },
     "execution_count": 4,
     "metadata": {},
     "output_type": "execute_result"
    }
   ],
   "source": [
    "juego.nombre()"
   ]
  },
  {
   "cell_type": "code",
   "execution_count": 6,
   "id": "c77e2c5d",
   "metadata": {},
   "outputs": [
    {
     "name": "stdout",
     "output_type": "stream",
     "text": [
      "Adivina la palabra de 5 letras: verbo\n",
      "Sigue jugando. Te quedan 5 intento(s).\n",
      "v ❌\n",
      "e ❌\n",
      "r ❌\n",
      "b 🔥\n",
      "o 🔥\n",
      "Adivina la palabra de 5 letras: bocina\n",
      "Asegúrate de haber escrito una palabra de 5 letras.\n",
      "Adivina la palabra de 5 letras: boina\n",
      "Sigue jugando. Te quedan 4 intento(s).\n",
      "b ✅\n",
      "o ✅\n",
      "i ❌\n",
      "n ❌\n",
      "a ✅\n",
      "Adivina la palabra de 5 letras: hint\n",
      "¿Estás seguro de querer obtener un hint? Perderás un intento si lo haces. Escribe \"s\" si                                         quieres obtener un hint o \"n\" si prefieres seguir sin un hint.s\n",
      "Aquí tienes tu hint: \u001b[1mSACO\u001b[0m . Te quedan 3 intento(s).\n",
      "Adivina la palabra de 5 letras: bolsa\n",
      "\u001b[1m¡¡Adivinaste la palabra!! YUJUU! 🥳\u001b[0m\n"
     ]
    }
   ],
   "source": [
    "juego.jugar()"
   ]
  }
 ],
 "metadata": {
  "kernelspec": {
   "display_name": "Python 3 (ipykernel)",
   "language": "python",
   "name": "python3"
  },
  "language_info": {
   "codemirror_mode": {
    "name": "ipython",
    "version": 3
   },
   "file_extension": ".py",
   "mimetype": "text/x-python",
   "name": "python",
   "nbconvert_exporter": "python",
   "pygments_lexer": "ipython3",
   "version": "3.9.12"
  }
 },
 "nbformat": 4,
 "nbformat_minor": 5
}
